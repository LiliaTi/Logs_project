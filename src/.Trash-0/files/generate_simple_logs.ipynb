{
 "cells": [
  {
   "cell_type": "code",
   "execution_count": 1,
   "id": "12c9d5d8-6805-4408-bee1-bc6cef36b654",
   "metadata": {},
   "outputs": [],
   "source": [
    "import random\n",
    "from datetime import datetime"
   ]
  },
  {
   "cell_type": "code",
   "execution_count": 2,
   "id": "887a0e9c-7ed1-4f41-8f8d-7158dabc7a6a",
   "metadata": {},
   "outputs": [],
   "source": [
    "def generate_log_entry():\n",
    "    # 1. Генерируем IP (случайный адрес в локальной сети)\n",
    "    ip = f\"192.168.{random.randint(0, 255)}.{random.randint(0, 255)}\"\n",
    "    \n",
    "    # 2. Форматируем текущее время\n",
    "    timestamp = datetime.now().strftime('[%Y-%m-%d %H:%M:%S]')\n",
    "    \n",
    "    # 3. Выбираем случайные значения для остальных полей\n",
    "    method = random.choice([\"GET\", \"POST\", \"PUT\", \"DELETE\"])\n",
    "    url = random.choice([\"/api/data\", \"/users\", \"/products\"])\n",
    "    status = random.choice([200, 201, 400, 404, 500])\n",
    "    size = random.randint(100, 5000)  # Размер от 100 до 5000 байт\n",
    "    \n",
    "    # 4. Собираем строку\n",
    "    return f'{ip} {timestamp} \"{method} {url} HTTP/1.1\" {status} {size}'"
   ]
  },
  {
   "cell_type": "code",
   "execution_count": 3,
   "id": "43f9c75f-9d61-461a-bebc-ddbc7ef02a4d",
   "metadata": {},
   "outputs": [
    {
     "name": "stdout",
     "output_type": "stream",
     "text": [
      "192.168.43.28 [2025-05-12 12:26:26] \"DELETE /api/data HTTP/1.1\" 200 2796\n"
     ]
    }
   ],
   "source": [
    "print(generate_log_entry())"
   ]
  },
  {
   "cell_type": "code",
   "execution_count": 4,
   "id": "a785c4e2-2eae-4b49-81d5-bd9452a901d0",
   "metadata": {},
   "outputs": [],
   "source": [
    "def save_logs_to_file(filename, num_entries=100):\n",
    "    with open(filename, 'w') as file:\n",
    "        for _ in range(num_entries):\n",
    "            file.write(generate_log_entry() + '\\n')\n",
    "\n",
    "# Пример использования\n",
    "save_logs_to_file(\"simple_logs.log\")"
   ]
  }
 ],
 "metadata": {
  "kernelspec": {
   "display_name": "Python 3 (ipykernel)",
   "language": "python",
   "name": "python3"
  },
  "language_info": {
   "codemirror_mode": {
    "name": "ipython",
    "version": 3
   },
   "file_extension": ".py",
   "mimetype": "text/x-python",
   "name": "python",
   "nbconvert_exporter": "python",
   "pygments_lexer": "ipython3",
   "version": "3.11.12"
  }
 },
 "nbformat": 4,
 "nbformat_minor": 5
}
