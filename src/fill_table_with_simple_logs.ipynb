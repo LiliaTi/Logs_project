{
 "cells": [
  {
   "cell_type": "code",
   "execution_count": 8,
   "id": "f23f3829-60cc-4478-ae57-c484a2f2944c",
   "metadata": {},
   "outputs": [],
   "source": [
    "from sqlalchemy import create_engine, Column, Integer, String, DateTime, Text\n",
    "from sqlalchemy.ext.declarative import declarative_base\n",
    "from sqlalchemy.orm import sessionmaker\n",
    "from dotenv import load_dotenv\n",
    "import os\n",
    "from datetime import datetime\n",
    "import random"
   ]
  },
  {
   "cell_type": "code",
   "execution_count": 2,
   "id": "f092e93c-2d83-4a59-9863-d07202ed9ebb",
   "metadata": {},
   "outputs": [
    {
     "data": {
      "text/plain": [
       "True"
      ]
     },
     "execution_count": 2,
     "metadata": {},
     "output_type": "execute_result"
    }
   ],
   "source": [
    "load_dotenv()"
   ]
  },
  {
   "cell_type": "code",
   "execution_count": 3,
   "id": "5b9de5df-db1b-4b65-94c7-8c3e335cebf5",
   "metadata": {},
   "outputs": [],
   "source": [
    "engine = create_engine(\n",
    "    f\"postgresql+psycopg2://{os.getenv('POSTGRES_USER')}:{os.getenv('POSTGRES_PASSWORD')}@\"\n",
    "    f\"{os.getenv('POSTGRES_HOST')}:{os.getenv('POSTGRES_PORT')}/{os.getenv('POSTGRES_DB')}\"\n",
    ")"
   ]
  },
  {
   "cell_type": "code",
   "execution_count": 4,
   "id": "1c0da318-a265-4790-8904-ecebb4f4a8dc",
   "metadata": {},
   "outputs": [
    {
     "name": "stderr",
     "output_type": "stream",
     "text": [
      "/tmp/ipykernel_28/1554121453.py:1: MovedIn20Warning: The ``declarative_base()`` function is now available as sqlalchemy.orm.declarative_base(). (deprecated since: 2.0) (Background on SQLAlchemy 2.0 at: https://sqlalche.me/e/b8d9)\n",
      "  Base = declarative_base()\n"
     ]
    }
   ],
   "source": [
    "Base = declarative_base()\n",
    "\n",
    "class WebLog(Base):\n",
    "    __tablename__ = 'web_logs'\n",
    "    \n",
    "    id = Column(Integer, primary_key=True)\n",
    "    ip = Column(String(15))\n",
    "    timestamp = Column(DateTime)\n",
    "    method = Column(String(10))\n",
    "    url = Column(Text)\n",
    "    status = Column(Integer)\n",
    "    size = Column(Integer)\n",
    "    raw_log = Column(Text)  # Полная строка лога\n",
    "\n",
    "# Создаем таблицу\n",
    "Base.metadata.create_all(engine)\n",
    "Session = sessionmaker(bind=engine)"
   ]
  },
  {
   "cell_type": "code",
   "execution_count": 27,
   "id": "d3781321-f76e-4217-9243-2b105acd252d",
   "metadata": {},
   "outputs": [
    {
     "name": "stdout",
     "output_type": "stream",
     "text": [
      "Сохранено 100 записей в БД\n"
     ]
    }
   ],
   "source": [
    "def generate_log_entry():\n",
    "    # 1. Генерируем IP (случайный адрес в локальной сети)\n",
    "    ip = f\"192.168.{random.randint(0, 255)}.{random.randint(0, 255)}\"\n",
    "    \n",
    "    # 2. Форматируем текущее время\n",
    "    timestamp = datetime.now().strftime('[%Y-%m-%d %H:%M:%S]')\n",
    "    \n",
    "    # 3. Выбираем случайные значения для остальных полей\n",
    "    method = random.choice([\"GET\", \"POST\", \"PUT\", \"DELETE\"])\n",
    "    url = random.choice([\"/api/data\", \"/users\", \"/products\"])\n",
    "    status = random.choice([200, 201, 400, 404, 500])\n",
    "    size = random.randint(100, 5000)  # Размер от 100 до 5000 байт\n",
    "    \n",
    "    # 4. Собираем строку\n",
    "    return f'{ip} {timestamp} \"{method} {url} HTTP/1.1\" {status} {size}'\n",
    "\n",
    "def parse_log_line(log_line):\n",
    "    \"\"\"Разбирает строку лога на компоненты.\"\"\"\n",
    "    parts = log_line.split()\n",
    "    return {\n",
    "        'ip': parts[0],\n",
    "        'timestamp': datetime.strptime((parts[1] + ' ' + parts[2])[1:-1], '%Y-%m-%d %H:%M:%S'),\n",
    "        'method': parts[3][1:],  # Убираем первую кавычку\n",
    "        'url': parts[4],\n",
    "        'status': int(parts[6]),\n",
    "        'size': int(parts[7]),\n",
    "        'raw_log': log_line\n",
    "    }\n",
    "\n",
    "def save_logs_to_db(num_entries=100):\n",
    "    session = Session()\n",
    "    \n",
    "    for _ in range(num_entries):\n",
    "        log_line = generate_log_entry()\n",
    "        log_data = parse_log_line(log_line)\n",
    "        session.add(WebLog(**log_data))\n",
    "    \n",
    "    session.commit()\n",
    "    print(f\"Сохранено {num_entries} записей в БД\")\n",
    "\n",
    "# Пример использования\n",
    "save_logs_to_db()"
   ]
  },
  {
   "cell_type": "code",
   "execution_count": null,
   "id": "5ba1fd9b-68a5-4de8-8956-35aa6951996e",
   "metadata": {},
   "outputs": [],
   "source": []
  }
 ],
 "metadata": {
  "kernelspec": {
   "display_name": "Python 3 (ipykernel)",
   "language": "python",
   "name": "python3"
  },
  "language_info": {
   "codemirror_mode": {
    "name": "ipython",
    "version": 3
   },
   "file_extension": ".py",
   "mimetype": "text/x-python",
   "name": "python",
   "nbconvert_exporter": "python",
   "pygments_lexer": "ipython3",
   "version": "3.11.12"
  }
 },
 "nbformat": 4,
 "nbformat_minor": 5
}
