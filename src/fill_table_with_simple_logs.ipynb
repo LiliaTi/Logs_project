{
 "cells": [
  {
   "cell_type": "code",
   "execution_count": 1,
   "id": "f23f3829-60cc-4478-ae57-c484a2f2944c",
   "metadata": {},
   "outputs": [],
   "source": [
    "from sqlalchemy import create_engine, Column, Integer, String, DateTime, Text, PrimaryKeyConstraint\n",
    "from sqlalchemy.ext.declarative import declarative_base\n",
    "from sqlalchemy.orm import sessionmaker\n",
    "from dotenv import load_dotenv\n",
    "import os\n",
    "from datetime import datetime\n",
    "import random\n",
    "from sqlalchemy.dialects.postgresql import INET  # Для IP-адресов"
   ]
  },
  {
   "cell_type": "code",
   "execution_count": 2,
   "id": "f092e93c-2d83-4a59-9863-d07202ed9ebb",
   "metadata": {},
   "outputs": [
    {
     "data": {
      "text/plain": [
       "True"
      ]
     },
     "execution_count": 2,
     "metadata": {},
     "output_type": "execute_result"
    }
   ],
   "source": [
    "load_dotenv()"
   ]
  },
  {
   "cell_type": "code",
   "execution_count": 3,
   "id": "5b9de5df-db1b-4b65-94c7-8c3e335cebf5",
   "metadata": {},
   "outputs": [],
   "source": [
    "engine = create_engine(\n",
    "    f\"postgresql+psycopg2://{os.getenv('POSTGRES_USER')}:{os.getenv('POSTGRES_PASSWORD')}@\"\n",
    "    f\"{os.getenv('POSTGRES_HOST')}:{os.getenv('POSTGRES_PORT')}/{os.getenv('POSTGRES_DB')}\"\n",
    ")"
   ]
  },
  {
   "cell_type": "code",
   "execution_count": 4,
   "id": "1c0da318-a265-4790-8904-ecebb4f4a8dc",
   "metadata": {},
   "outputs": [
    {
     "name": "stderr",
     "output_type": "stream",
     "text": [
      "/tmp/ipykernel_1423/3209646392.py:1: MovedIn20Warning: The ``declarative_base()`` function is now available as sqlalchemy.orm.declarative_base(). (deprecated since: 2.0) (Background on SQLAlchemy 2.0 at: https://sqlalche.me/e/b8d9)\n",
      "  Base = declarative_base()\n",
      "/tmp/ipykernel_1423/3209646392.py:3: SAWarning: Table 'web_logs' specifies columns 'id' as primary_key=True, not matching locally specified columns 'id', 'timestamp'; setting the current primary key columns to 'id', 'timestamp'. This warning may become an exception in a future release\n",
      "  class WebLog(Base):\n"
     ]
    }
   ],
   "source": [
    "Base = declarative_base()\n",
    "\n",
    "class WebLog(Base):\n",
    "    __tablename__ = 'web_logs'\n",
    "    \n",
    "    id = Column(Integer, primary_key=True)\n",
    "    ip = Column(INET())  # Оптимальный тип для IP (вместо VARCHAR)\n",
    "    timestamp = Column(DateTime(timezone=True))  # С временной зоной!\n",
    "    method = Column(String(10))  # Можно оставить, но лучше ENUM\n",
    "    url = Column(Text)\n",
    "    status = Column(Integer)\n",
    "    size = Column(Integer)\n",
    "    \n",
    "    # Важно: timestamp должен быть в первичном ключе\n",
    "    __table_args__ = (\n",
    "        PrimaryKeyConstraint('id', 'timestamp'),  # Составной ключ\n",
    "    )\n",
    "Base.metadata.create_all(engine)\n",
    "Session = sessionmaker(bind=engine)"
   ]
  },
  {
   "cell_type": "code",
   "execution_count": 5,
   "id": "d3781321-f76e-4217-9243-2b105acd252d",
   "metadata": {},
   "outputs": [
    {
     "ename": "TypeError",
     "evalue": "'raw_log' is an invalid keyword argument for WebLog",
     "output_type": "error",
     "traceback": [
      "\u001b[31m---------------------------------------------------------------------------\u001b[39m",
      "\u001b[31mTypeError\u001b[39m                                 Traceback (most recent call last)",
      "\u001b[36mCell\u001b[39m\u001b[36m \u001b[39m\u001b[32mIn[5]\u001b[39m\u001b[32m, line 42\u001b[39m\n\u001b[32m     39\u001b[39m     \u001b[38;5;28mprint\u001b[39m(\u001b[33mf\u001b[39m\u001b[33m\"\u001b[39m\u001b[33mСохранено \u001b[39m\u001b[38;5;132;01m{\u001b[39;00mnum_entries\u001b[38;5;132;01m}\u001b[39;00m\u001b[33m записей в БД\u001b[39m\u001b[33m\"\u001b[39m)\n\u001b[32m     41\u001b[39m \u001b[38;5;66;03m# Пример использования\u001b[39;00m\n\u001b[32m---> \u001b[39m\u001b[32m42\u001b[39m \u001b[43msave_logs_to_db\u001b[49m\u001b[43m(\u001b[49m\u001b[32;43m1_000_000\u001b[39;49m\u001b[43m)\u001b[49m\n",
      "\u001b[36mCell\u001b[39m\u001b[36m \u001b[39m\u001b[32mIn[5]\u001b[39m\u001b[32m, line 36\u001b[39m, in \u001b[36msave_logs_to_db\u001b[39m\u001b[34m(num_entries)\u001b[39m\n\u001b[32m     34\u001b[39m     log_line = generate_log_entry()\n\u001b[32m     35\u001b[39m     log_data = parse_log_line(log_line)\n\u001b[32m---> \u001b[39m\u001b[32m36\u001b[39m     session.add(\u001b[43mWebLog\u001b[49m\u001b[43m(\u001b[49m\u001b[43m*\u001b[49m\u001b[43m*\u001b[49m\u001b[43mlog_data\u001b[49m\u001b[43m)\u001b[49m)\n\u001b[32m     38\u001b[39m session.commit()\n\u001b[32m     39\u001b[39m \u001b[38;5;28mprint\u001b[39m(\u001b[33mf\u001b[39m\u001b[33m\"\u001b[39m\u001b[33mСохранено \u001b[39m\u001b[38;5;132;01m{\u001b[39;00mnum_entries\u001b[38;5;132;01m}\u001b[39;00m\u001b[33m записей в БД\u001b[39m\u001b[33m\"\u001b[39m)\n",
      "\u001b[36mFile \u001b[39m\u001b[32m<string>:4\u001b[39m, in \u001b[36m__init__\u001b[39m\u001b[34m(self, **kwargs)\u001b[39m\n",
      "\u001b[36mFile \u001b[39m\u001b[32m/usr/local/lib/python3.11/site-packages/sqlalchemy/orm/state.py:571\u001b[39m, in \u001b[36mInstanceState._initialize_instance\u001b[39m\u001b[34m(*mixed, **kwargs)\u001b[39m\n\u001b[32m    569\u001b[39m     manager.original_init(*mixed[\u001b[32m1\u001b[39m:], **kwargs)\n\u001b[32m    570\u001b[39m \u001b[38;5;28;01mexcept\u001b[39;00m:\n\u001b[32m--> \u001b[39m\u001b[32m571\u001b[39m \u001b[43m    \u001b[49m\u001b[38;5;28;43;01mwith\u001b[39;49;00m\u001b[43m \u001b[49m\u001b[43mutil\u001b[49m\u001b[43m.\u001b[49m\u001b[43msafe_reraise\u001b[49m\u001b[43m(\u001b[49m\u001b[43m)\u001b[49m\u001b[43m:\u001b[49m\n\u001b[32m    572\u001b[39m \u001b[43m        \u001b[49m\u001b[43mmanager\u001b[49m\u001b[43m.\u001b[49m\u001b[43mdispatch\u001b[49m\u001b[43m.\u001b[49m\u001b[43minit_failure\u001b[49m\u001b[43m(\u001b[49m\u001b[38;5;28;43mself\u001b[39;49m\u001b[43m,\u001b[49m\u001b[43m \u001b[49m\u001b[43margs\u001b[49m\u001b[43m,\u001b[49m\u001b[43m \u001b[49m\u001b[43mkwargs\u001b[49m\u001b[43m)\u001b[49m\n",
      "\u001b[36mFile \u001b[39m\u001b[32m/usr/local/lib/python3.11/site-packages/sqlalchemy/util/langhelpers.py:146\u001b[39m, in \u001b[36msafe_reraise.__exit__\u001b[39m\u001b[34m(self, type_, value, traceback)\u001b[39m\n\u001b[32m    144\u001b[39m     \u001b[38;5;28;01massert\u001b[39;00m exc_value \u001b[38;5;129;01mis\u001b[39;00m \u001b[38;5;129;01mnot\u001b[39;00m \u001b[38;5;28;01mNone\u001b[39;00m\n\u001b[32m    145\u001b[39m     \u001b[38;5;28mself\u001b[39m._exc_info = \u001b[38;5;28;01mNone\u001b[39;00m  \u001b[38;5;66;03m# remove potential circular references\u001b[39;00m\n\u001b[32m--> \u001b[39m\u001b[32m146\u001b[39m     \u001b[38;5;28;01mraise\u001b[39;00m exc_value.with_traceback(exc_tb)\n\u001b[32m    147\u001b[39m \u001b[38;5;28;01melse\u001b[39;00m:\n\u001b[32m    148\u001b[39m     \u001b[38;5;28mself\u001b[39m._exc_info = \u001b[38;5;28;01mNone\u001b[39;00m  \u001b[38;5;66;03m# remove potential circular references\u001b[39;00m\n",
      "\u001b[36mFile \u001b[39m\u001b[32m/usr/local/lib/python3.11/site-packages/sqlalchemy/orm/state.py:569\u001b[39m, in \u001b[36mInstanceState._initialize_instance\u001b[39m\u001b[34m(*mixed, **kwargs)\u001b[39m\n\u001b[32m    566\u001b[39m manager.dispatch.init(\u001b[38;5;28mself\u001b[39m, args, kwargs)\n\u001b[32m    568\u001b[39m \u001b[38;5;28;01mtry\u001b[39;00m:\n\u001b[32m--> \u001b[39m\u001b[32m569\u001b[39m     \u001b[43mmanager\u001b[49m\u001b[43m.\u001b[49m\u001b[43moriginal_init\u001b[49m\u001b[43m(\u001b[49m\u001b[43m*\u001b[49m\u001b[43mmixed\u001b[49m\u001b[43m[\u001b[49m\u001b[32;43m1\u001b[39;49m\u001b[43m:\u001b[49m\u001b[43m]\u001b[49m\u001b[43m,\u001b[49m\u001b[43m \u001b[49m\u001b[43m*\u001b[49m\u001b[43m*\u001b[49m\u001b[43mkwargs\u001b[49m\u001b[43m)\u001b[49m\n\u001b[32m    570\u001b[39m \u001b[38;5;28;01mexcept\u001b[39;00m:\n\u001b[32m    571\u001b[39m     \u001b[38;5;28;01mwith\u001b[39;00m util.safe_reraise():\n",
      "\u001b[36mFile \u001b[39m\u001b[32m/usr/local/lib/python3.11/site-packages/sqlalchemy/orm/decl_base.py:2175\u001b[39m, in \u001b[36m_declarative_constructor\u001b[39m\u001b[34m(self, **kwargs)\u001b[39m\n\u001b[32m   2173\u001b[39m \u001b[38;5;28;01mfor\u001b[39;00m k \u001b[38;5;129;01min\u001b[39;00m kwargs:\n\u001b[32m   2174\u001b[39m     \u001b[38;5;28;01mif\u001b[39;00m \u001b[38;5;129;01mnot\u001b[39;00m \u001b[38;5;28mhasattr\u001b[39m(cls_, k):\n\u001b[32m-> \u001b[39m\u001b[32m2175\u001b[39m         \u001b[38;5;28;01mraise\u001b[39;00m \u001b[38;5;167;01mTypeError\u001b[39;00m(\n\u001b[32m   2176\u001b[39m             \u001b[33m\"\u001b[39m\u001b[38;5;132;01m%r\u001b[39;00m\u001b[33m is an invalid keyword argument for \u001b[39m\u001b[38;5;132;01m%s\u001b[39;00m\u001b[33m\"\u001b[39m % (k, cls_.\u001b[34m__name__\u001b[39m)\n\u001b[32m   2177\u001b[39m         )\n\u001b[32m   2178\u001b[39m     \u001b[38;5;28msetattr\u001b[39m(\u001b[38;5;28mself\u001b[39m, k, kwargs[k])\n",
      "\u001b[31mTypeError\u001b[39m: 'raw_log' is an invalid keyword argument for WebLog"
     ]
    }
   ],
   "source": [
    "def generate_log_entry():\n",
    "    # 1. Генерируем IP (случайный адрес в локальной сети)\n",
    "    ip = f\"192.168.{random.randint(0, 255)}.{random.randint(0, 255)}\"\n",
    "    \n",
    "    # 2. Форматируем текущее время\n",
    "    timestamp = datetime.now().strftime('[%Y-%m-%d %H:%M:%S]')\n",
    "    \n",
    "    # 3. Выбираем случайные значения для остальных полей\n",
    "    method = random.choice([\"GET\", \"POST\", \"PUT\", \"DELETE\"])\n",
    "    url = random.choice([\"/api/data\", \"/users\", \"/products\"])\n",
    "    status = random.choice([200, 201, 400, 404, 500])\n",
    "    size = random.randint(100, 5000)  # Размер от 100 до 5000 байт\n",
    "    \n",
    "    # 4. Собираем строку\n",
    "    return f'{ip} {timestamp} \"{method} {url} HTTP/1.1\" {status} {size}'\n",
    "\n",
    "def parse_log_line(log_line):\n",
    "    \"\"\"Разбирает строку лога на компоненты.\"\"\"\n",
    "    parts = log_line.split()\n",
    "    return {\n",
    "        'ip': parts[0],\n",
    "        'timestamp': datetime.strptime((parts[1] + ' ' + parts[2])[1:-1], '%Y-%m-%d %H:%M:%S'),\n",
    "        'method': parts[3][1:],  # Убираем первую кавычку\n",
    "        'url': parts[4],\n",
    "        'status': int(parts[6]),\n",
    "        'size': int(parts[7]),\n",
    "        #'raw_log': log_line\n",
    "    }\n",
    "\n",
    "def save_logs_to_db(num_entries=100):\n",
    "    session = Session()\n",
    "    \n",
    "    for _ in range(num_entries):\n",
    "        log_line = generate_log_entry()\n",
    "        log_data = parse_log_line(log_line)\n",
    "        session.add(WebLog(**log_data))\n",
    "    \n",
    "    session.commit()\n",
    "    print(f\"Сохранено {num_entries} записей в БД\")\n",
    "\n",
    "# Пример использования\n",
    "save_logs_to_db(1_000_000)"
   ]
  },
  {
   "cell_type": "code",
   "execution_count": null,
   "id": "5ba1fd9b-68a5-4de8-8956-35aa6951996e",
   "metadata": {},
   "outputs": [],
   "source": []
  }
 ],
 "metadata": {
  "kernelspec": {
   "display_name": "Python 3 (ipykernel)",
   "language": "python",
   "name": "python3"
  },
  "language_info": {
   "codemirror_mode": {
    "name": "ipython",
    "version": 3
   },
   "file_extension": ".py",
   "mimetype": "text/x-python",
   "name": "python",
   "nbconvert_exporter": "python",
   "pygments_lexer": "ipython3",
   "version": "3.11.12"
  }
 },
 "nbformat": 4,
 "nbformat_minor": 5
}
